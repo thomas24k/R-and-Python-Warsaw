{
 "cells": [
  {
   "cell_type": "code",
   "execution_count": null,
   "id": "f8cd62e7-67f5-48a0-86c9-1932e3c28bc1",
   "metadata": {},
   "outputs": [],
   "source": [
    "#ADDITIONAL TASK FOR NO SQL DONE WITH PYTHON"
   ]
  },
  {
   "cell_type": "code",
   "execution_count": 20,
   "id": "f8dfe7fb-458d-42a4-a3dc-57ede12772df",
   "metadata": {},
   "outputs": [],
   "source": [
    "import pandas as pd\n",
    "\n",
    "#Add files\n",
    "Posts = pd.read_csv('Posts.csv')\n",
    "Users = pd.read_csv('Users.csv')\n"
   ]
  },
  {
   "cell_type": "code",
   "execution_count": 26,
   "id": "e39d3390-8b64-4344-92ba-8f907de6f698",
   "metadata": {},
   "outputs": [],
   "source": [
    "# Merge 'Posts' and 'Users' on the user IDs\n",
    "merged_data = pd.merge(Posts, Users, left_on='OwnerUserId', right_on='Id', how='left')\n",
    "\n",
    "# Filter users who have provided their location (non-empty 'Location' field) and make a copy as the code after\n",
    "#gave warnings if it works directly on the safe merged file\n",
    "users_with_location = merged_data[(merged_data['Location'].notnull()) & (merged_data['Location'] != \"\")].copy()\n"
   ]
  },
  {
   "cell_type": "code",
   "execution_count": 28,
   "id": "a01bf671-fa99-4046-8bd1-4005287d401d",
   "metadata": {},
   "outputs": [],
   "source": [
    "# Ensure 'CommentCount' is numeric\n",
    "users_with_location['CommentCount'] = pd.to_numeric(users_with_location['CommentCount'], errors='coerce')\n"
   ]
  },
  {
   "cell_type": "code",
   "execution_count": 30,
   "id": "cc439c6b-9ec3-4b16-bedc-36a7968bc0c3",
   "metadata": {},
   "outputs": [],
   "source": [
    "# Sum up the 'CommentCount' for each user\n",
    "total_comments = users_with_location.groupby('OwnerUserId')['CommentCount'].sum().reset_index()"
   ]
  },
  {
   "cell_type": "code",
   "execution_count": 32,
   "id": "ba17c5b7-ddd9-4a93-8c1f-0ca6450c73ae",
   "metadata": {},
   "outputs": [],
   "source": [
    "# Get user information\n",
    "user_info = users_with_location[['OwnerUserId', 'DisplayName', 'Location']].drop_duplicates()"
   ]
  },
  {
   "cell_type": "code",
   "execution_count": 34,
   "id": "fffbd108-cf5b-46d1-80e0-db83f1a65dea",
   "metadata": {},
   "outputs": [],
   "source": [
    "# Merge the total comments with user information\n",
    "final_result = pd.merge(total_comments, user_info, on='OwnerUserId', how='left')\n",
    "\n",
    "# Rearrange columns\n",
    "final_result = final_result[['OwnerUserId', 'DisplayName', 'Location', 'CommentCount']]"
   ]
  },
  {
   "cell_type": "code",
   "execution_count": 36,
   "id": "cf6cba22-45ad-4ea1-9db1-ff68e184ae99",
   "metadata": {},
   "outputs": [
    {
     "name": "stdout",
     "output_type": "stream",
     "text": [
      "      OwnerUserId             DisplayName                    Location  \\\n",
      "0            -1.0               Community          on the server farm   \n",
      "1             6.0                    carl               United States   \n",
      "2             7.0            Brock Boland                 Chicago, IL   \n",
      "3             8.0  Goodbye Stack Exchange                  New Jersey   \n",
      "4             9.0                Mike Two                 Chicago, IL   \n",
      "...           ...                     ...                         ...   \n",
      "4530      75016.0                 mantruc             Santiago, Chile   \n",
      "4531      75083.0                 macxpat                Nice, France   \n",
      "4532      75116.0           Alex Sarafian           Mechelen, Belgium   \n",
      "4533      75162.0              dustbuster  Bel Air, MD, United States   \n",
      "4534      75226.0                cyclismo                     Vermont   \n",
      "\n",
      "      CommentCount  \n",
      "0                0  \n",
      "1                4  \n",
      "2               14  \n",
      "3              539  \n",
      "4               17  \n",
      "...            ...  \n",
      "4530             4  \n",
      "4531             2  \n",
      "4532             8  \n",
      "4533             4  \n",
      "4534             1  \n",
      "\n",
      "[4535 rows x 4 columns]\n"
     ]
    }
   ],
   "source": [
    "# View the result\n",
    "print(final_result)\n",
    "\n",
    "# Save CSV file for comparison in: User/thomas  \n",
    "final_result.to_csv('total_comments_by_user.csv', index=False)"
   ]
  },
  {
   "cell_type": "code",
   "execution_count": null,
   "id": "b1814864-57da-4f52-9549-2108ab48ecda",
   "metadata": {},
   "outputs": [],
   "source": []
  }
 ],
 "metadata": {
  "kernelspec": {
   "display_name": "Python 3 (ipykernel)",
   "language": "python",
   "name": "python3"
  },
  "language_info": {
   "codemirror_mode": {
    "name": "ipython",
    "version": 3
   },
   "file_extension": ".py",
   "mimetype": "text/x-python",
   "name": "python",
   "nbconvert_exporter": "python",
   "pygments_lexer": "ipython3",
   "version": "3.12.7"
  }
 },
 "nbformat": 4,
 "nbformat_minor": 5
}
